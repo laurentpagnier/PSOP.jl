{
 "cells": [
  {
   "cell_type": "code",
   "execution_count": null,
   "id": "6f1940b1",
   "metadata": {},
   "outputs": [],
   "source": [
    "using Pkg\n",
    "Pkg.activate(\"..\")\n",
    "using PSOP\n",
    "using Plots"
   ]
  },
  {
   "cell_type": "code",
   "execution_count": null,
   "id": "ac098a7f",
   "metadata": {},
   "outputs": [],
   "source": [
    "ps = import_data_from_hdf5(\"../data/118.h5\");"
   ]
  },
  {
   "cell_type": "code",
   "execution_count": null,
   "id": "9d7af220",
   "metadata": {},
   "outputs": [],
   "source": [
    "th, gen, lmp = run_std_dc_opf(ps, t=1);"
   ]
  },
  {
   "cell_type": "code",
   "execution_count": null,
   "id": "627a92dd",
   "metadata": {
    "scrolled": true
   },
   "outputs": [],
   "source": [
    "# plotting the locational marginal prices\n",
    "plot(lmp, label=false, xlabel=\"# bus\", ylabel=\"LMP [a.u/100MW]\")"
   ]
  },
  {
   "cell_type": "code",
   "execution_count": null,
   "id": "fb5d6aa8",
   "metadata": {},
   "outputs": [],
   "source": [
    "# plotting the generators' ouputs\n",
    "plot(gen, label=false, xlabel=\"# generator\", ylabel=\"Power output [100MW]\")"
   ]
  }
 ],
 "metadata": {
  "kernelspec": {
   "display_name": "Julia 1.6.2",
   "language": "julia",
   "name": "julia-1.6"
  },
  "language_info": {
   "file_extension": ".jl",
   "mimetype": "application/julia",
   "name": "julia",
   "version": "1.6.2"
  }
 },
 "nbformat": 4,
 "nbformat_minor": 5
}
