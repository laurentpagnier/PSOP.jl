{
 "cells": [
  {
   "cell_type": "code",
   "execution_count": null,
   "id": "27775e12",
   "metadata": {},
   "outputs": [],
   "source": [
    "using Pkg\n",
    "Pkg.activate(\"..\")\n",
    "using PSOP\n",
    "using Plots"
   ]
  },
  {
   "cell_type": "code",
   "execution_count": null,
   "id": "a338c904",
   "metadata": {},
   "outputs": [],
   "source": [
    "#=\n",
    "PSdata consists of\n",
    "    gen_loc::Vector{Int64} where (i.e. bus ids) the generators are located\n",
    "    wind_loc::Vector{Int64}\n",
    "    min_gen::Vector{Float64}\n",
    "    max_gen::Vector{Float64}\n",
    "    line_id::Matrix{Int64}\n",
    "    line_susceptance::Vector{Float64}\n",
    "    line_limit::Vector{Float64}\n",
    "    demand::Matrix{Float64}\n",
    "    wind::Matrix{Float64}\n",
    "    lin_cost::Vector{Float64}\n",
    "    quad_cost::Vector{Float64}\n",
    "    min_on_time::Vector{Int64}\n",
    "    min_down_time::Vector{Int64}\n",
    "    Nbus::Int64\n",
    "    Nline::Int64\n",
    "    Ngen::Int64\n",
    "    Nwind::Int64\n",
    "    Nt::Int64\n",
    "    sb::Float64 # base MVA\n",
    "=#\n",
    "\n",
    "# load as folder\n",
    "# this folder MUST consist of\n",
    "# case.m, which follows Matpower file\n",
    "# wind_profile\n",
    "# load_profile\n",
    "ps = import_data(\"../data/case118/\");"
   ]
  },
  {
   "cell_type": "code",
   "execution_count": null,
   "id": "c65699eb",
   "metadata": {},
   "outputs": [],
   "source": [
    "# use it\n",
    "plot(ps.wind', label=false)"
   ]
  },
  {
   "cell_type": "code",
   "execution_count": null,
   "id": "a36244b2",
   "metadata": {},
   "outputs": [],
   "source": [
    "# modify it\n",
    "ps.line_limit .= 150;"
   ]
  },
  {
   "cell_type": "code",
   "execution_count": null,
   "id": "3b0217b1",
   "metadata": {},
   "outputs": [],
   "source": [
    "# save as a HDF5 file\n",
    "save_as_hdf5(\"mycase.h5\", ps)"
   ]
  },
  {
   "cell_type": "code",
   "execution_count": null,
   "id": "470cb95d",
   "metadata": {},
   "outputs": [],
   "source": [
    "# load it\n",
    "new_ps = import_data_from_hdf5(\"mycase.h5\")"
   ]
  }
 ],
 "metadata": {
  "kernelspec": {
   "display_name": "Julia 1.6.2",
   "language": "julia",
   "name": "julia-1.6"
  },
  "language_info": {
   "file_extension": ".jl",
   "mimetype": "application/julia",
   "name": "julia",
   "version": "1.6.2"
  }
 },
 "nbformat": 4,
 "nbformat_minor": 5
}
