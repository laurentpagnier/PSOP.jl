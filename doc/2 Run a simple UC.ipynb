{
 "cells": [
  {
   "cell_type": "code",
   "execution_count": null,
   "id": "24b31d6d",
   "metadata": {},
   "outputs": [],
   "source": [
    "using Pkg\n",
    "Pkg.activate(\"..\")\n",
    "using PSOP\n",
    "using Plots"
   ]
  },
  {
   "cell_type": "code",
   "execution_count": null,
   "id": "1672cebd",
   "metadata": {},
   "outputs": [],
   "source": [
    "# load the data\n",
    "ps = import_data_from_hdf5(\"../data/118.h5\");"
   ]
  },
  {
   "cell_type": "code",
   "execution_count": null,
   "id": "bf7aeff4",
   "metadata": {},
   "outputs": [],
   "source": [
    "# run the unit commitment\n",
    "uc_res = run_uc(ps);"
   ]
  },
  {
   "cell_type": "code",
   "execution_count": null,
   "id": "bed5fa84",
   "metadata": {},
   "outputs": [],
   "source": [
    "# plot the generation profiles\n",
    "plot(uc_res[1]', label=false, xlabel=\"t [hour]\", ylabel=\"Power output [100 MM]\")"
   ]
  }
 ],
 "metadata": {
  "kernelspec": {
   "display_name": "Julia 1.6.2",
   "language": "julia",
   "name": "julia-1.6"
  },
  "language_info": {
   "file_extension": ".jl",
   "mimetype": "application/julia",
   "name": "julia",
   "version": "1.6.2"
  }
 },
 "nbformat": 4,
 "nbformat_minor": 5
}
